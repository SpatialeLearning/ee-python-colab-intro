{
  "nbformat": 4,
  "nbformat_minor": 0,
  "metadata": {
    "colab": {
      "provenance": [],
      "authorship_tag": "ABX9TyMGi5EniD/ZwkadZtz0eb8w",
      "include_colab_link": true
    },
    "kernelspec": {
      "name": "python3",
      "display_name": "Python 3"
    },
    "language_info": {
      "name": "python"
    }
  },
  "cells": [
    {
      "cell_type": "markdown",
      "metadata": {
        "id": "view-in-github",
        "colab_type": "text"
      },
      "source": [
        "<a href=\"https://colab.research.google.com/github/SpatialeLearning/ee-python-colab-intro/blob/main/03_Download_NDVI_ImageColl/Download_NDVI_Image_Collection.ipynb\" target=\"_parent\"><img src=\"https://colab.research.google.com/assets/colab-badge.svg\" alt=\"Open In Colab\"/></a>"
      ]
    },
    {
      "cell_type": "markdown",
      "metadata": {
        "id": "FybYeT80V1Ai"
      },
      "source": [
        "## **Download NDVI Image Collection**"
      ]
    },
    {
      "cell_type": "markdown",
      "metadata": {
        "id": "ZlQaWAK0Vs7u"
      },
      "source": [
        "**Authenticate and Initialize Earth Engine**"
      ]
    },
    {
      "cell_type": "markdown",
      "metadata": {
        "id": "xQQ3kVwPa0ii"
      },
      "source": [
        "The Earth Engine Python API comes with a ee.batch module that allows you to launch batch exports and manage tasks."
      ]
    },
    {
      "cell_type": "code",
      "metadata": {
        "id": "3gkiwVbrVpLp"
      },
      "source": [
        "#Import earth engine\n",
        "import ee\n",
        " \n",
        "# Trigger the authentication flow.\n",
        "#ee.Authenticate()\n",
        " \n",
        "# Initialize the library.\n",
        "ee.Initialize()"
      ],
      "execution_count": null,
      "outputs": []
    },
    {
      "cell_type": "markdown",
      "source": [
        "Create a Collection"
      ],
      "metadata": {
        "id": "-p7D3szJt0uv"
      }
    },
    {
      "cell_type": "code",
      "metadata": {
        "id": "6EscS18VIslB"
      },
      "source": [
        "geometry = ee.Geometry.Point([31.5051, -26.6061])\n",
        "\n",
        "#location = roi.geometry().centroid().coordinates().getInfo()[::-1]\n",
        "location = geometry.coordinates().getInfo()[::-1]\n",
        "\n",
        "s2 = ee.ImageCollection('COPERNICUS/S2_HARMONIZED')\n",
        "rgbVis = {\n",
        "  'min': 0.0,\n",
        "  'max': 3000,\n",
        "  'bands': ['B4', 'B3', 'B2'],\n",
        "}\n",
        "\n",
        "# Write a function for Cloud masking\n",
        "def maskS2clouds(image):\n",
        "  qa = image.select('QA60')\n",
        "  cloudBitMask = 1 << 10\n",
        "  cirrusBitMask = 1 << 11\n",
        "  mask = qa.bitwiseAnd(cloudBitMask).eq(0).And(\n",
        "             qa.bitwiseAnd(cirrusBitMask).eq(0))\n",
        "  return image.updateMask(mask) \\\n",
        "      .select(\"B.*\") \\\n",
        "      .copyProperties(image, [\"system:time_start\"])\n",
        "\n",
        "filtered = s2.filter(ee.Filter.date('2020-01-01', '2020-05-01')) \\\n",
        "  .filter(ee.Filter.lt('CLOUDY_PIXEL_PERCENTAGE', 30)) \\\n",
        "  .filter(ee.Filter.bounds(geometry)) \\\n",
        "  .map(maskS2clouds)\n",
        "\n",
        "# Write a function that computes NDVI for an image and adds it as a band\n",
        "def addNDVI(image):\n",
        "  ndvi = image.normalizedDifference(['B5', 'B4']).rename('ndvi')\n",
        "  return image.addBands(ndvi)\n",
        "\n",
        "withNdvi = filtered.map(addNDVI)\n",
        "median = withNdvi.median()"
      ],
      "execution_count": null,
      "outputs": []
    },
    {
      "cell_type": "markdown",
      "source": [
        "Display maps"
      ],
      "metadata": {
        "id": "rdUj-4kt0_wv"
      }
    },
    {
      "cell_type": "code",
      "source": [
        "# Import the Folium library.\n",
        "import folium\n",
        "\n",
        "# Define a method for displaying Earth Engine image tiles to folium map.\n",
        "def addLayer (self, ee_image_object, vis_params, name):\n",
        "  map_id_dict = ee.Image(ee_image_object).getMapId(vis_params)\n",
        "  folium.raster_layers.TileLayer(\n",
        "    tiles = map_id_dict['tile_fetcher'].url_format,\n",
        "    attr = 'Map Data &copy; <a href=\"https://earthengine.google.com/\">Google Earth Engine</a>',\n",
        "    name = name,\n",
        "    overlay = True,\n",
        "    control = True\n",
        "  ).add_to(self)\n",
        "\n",
        "# Add EE drawing method to folium.\n",
        "folium.Map.addLayer = addLayer\n",
        "\n",
        "# Create the map object.\n",
        "Map = folium.Map(location=location, zoom_start = 10)"
      ],
      "metadata": {
        "id": "Z6nHwOrT08KT"
      },
      "execution_count": null,
      "outputs": []
    },
    {
      "cell_type": "code",
      "source": [
        "Map.addLayer(median, rgbVis, 'Sentinel')\n",
        "\n",
        "# Add a layer control panel to the map.\n",
        "Map.add_child(folium.LayerControl())\n",
        "\n",
        "# Display the map.\n",
        "display(Map)"
      ],
      "metadata": {
        "colab": {
          "base_uri": "https://localhost:8080/",
          "height": 866
        },
        "id": "6q-LnWM208SR",
        "outputId": "57b6c66f-8b51-4bbd-d2b7-6f288a684820"
      },
      "execution_count": null,
      "outputs": [
        {
          "output_type": "display_data",
          "data": {
            "text/plain": [
              "<folium.folium.Map at 0x7fe40f4a7700>"
            ],
            "text/html": [
              "<div style=\"width:100%;\"><div style=\"position:relative;width:100%;height:0;padding-bottom:60%;\"><span style=\"color:#565656\">Make this Notebook Trusted to load map: File -> Trust Notebook</span><iframe srcdoc=\"&lt;!DOCTYPE html&gt;\n",
              "&lt;html&gt;\n",
              "&lt;head&gt;\n",
              "    \n",
              "    &lt;meta http-equiv=&quot;content-type&quot; content=&quot;text/html; charset=UTF-8&quot; /&gt;\n",
              "    \n",
              "        &lt;script&gt;\n",
              "            L_NO_TOUCH = false;\n",
              "            L_DISABLE_3D = false;\n",
              "        &lt;/script&gt;\n",
              "    \n",
              "    &lt;style&gt;html, body {width: 100%;height: 100%;margin: 0;padding: 0;}&lt;/style&gt;\n",
              "    &lt;style&gt;#map {position:absolute;top:0;bottom:0;right:0;left:0;}&lt;/style&gt;\n",
              "    &lt;script src=&quot;https://cdn.jsdelivr.net/npm/leaflet@1.6.0/dist/leaflet.js&quot;&gt;&lt;/script&gt;\n",
              "    &lt;script src=&quot;https://code.jquery.com/jquery-1.12.4.min.js&quot;&gt;&lt;/script&gt;\n",
              "    &lt;script src=&quot;https://maxcdn.bootstrapcdn.com/bootstrap/3.2.0/js/bootstrap.min.js&quot;&gt;&lt;/script&gt;\n",
              "    &lt;script src=&quot;https://cdnjs.cloudflare.com/ajax/libs/Leaflet.awesome-markers/2.0.2/leaflet.awesome-markers.js&quot;&gt;&lt;/script&gt;\n",
              "    &lt;link rel=&quot;stylesheet&quot; href=&quot;https://cdn.jsdelivr.net/npm/leaflet@1.6.0/dist/leaflet.css&quot;/&gt;\n",
              "    &lt;link rel=&quot;stylesheet&quot; href=&quot;https://maxcdn.bootstrapcdn.com/bootstrap/3.2.0/css/bootstrap.min.css&quot;/&gt;\n",
              "    &lt;link rel=&quot;stylesheet&quot; href=&quot;https://maxcdn.bootstrapcdn.com/bootstrap/3.2.0/css/bootstrap-theme.min.css&quot;/&gt;\n",
              "    &lt;link rel=&quot;stylesheet&quot; href=&quot;https://maxcdn.bootstrapcdn.com/font-awesome/4.6.3/css/font-awesome.min.css&quot;/&gt;\n",
              "    &lt;link rel=&quot;stylesheet&quot; href=&quot;https://cdnjs.cloudflare.com/ajax/libs/Leaflet.awesome-markers/2.0.2/leaflet.awesome-markers.css&quot;/&gt;\n",
              "    &lt;link rel=&quot;stylesheet&quot; href=&quot;https://cdn.jsdelivr.net/gh/python-visualization/folium/folium/templates/leaflet.awesome.rotate.min.css&quot;/&gt;\n",
              "    \n",
              "            &lt;meta name=&quot;viewport&quot; content=&quot;width=device-width,\n",
              "                initial-scale=1.0, maximum-scale=1.0, user-scalable=no&quot; /&gt;\n",
              "            &lt;style&gt;\n",
              "                #map_8ba8d9601c37c520028de7acc917ea71 {\n",
              "                    position: relative;\n",
              "                    width: 100.0%;\n",
              "                    height: 100.0%;\n",
              "                    left: 0.0%;\n",
              "                    top: 0.0%;\n",
              "                }\n",
              "            &lt;/style&gt;\n",
              "        \n",
              "&lt;/head&gt;\n",
              "&lt;body&gt;\n",
              "    \n",
              "    \n",
              "            &lt;div class=&quot;folium-map&quot; id=&quot;map_8ba8d9601c37c520028de7acc917ea71&quot; &gt;&lt;/div&gt;\n",
              "        \n",
              "&lt;/body&gt;\n",
              "&lt;script&gt;\n",
              "    \n",
              "    \n",
              "            var map_8ba8d9601c37c520028de7acc917ea71 = L.map(\n",
              "                &quot;map_8ba8d9601c37c520028de7acc917ea71&quot;,\n",
              "                {\n",
              "                    center: [-26.6061, 31.5051],\n",
              "                    crs: L.CRS.EPSG3857,\n",
              "                    zoom: 10,\n",
              "                    zoomControl: true,\n",
              "                    preferCanvas: false,\n",
              "                }\n",
              "            );\n",
              "\n",
              "            \n",
              "\n",
              "        \n",
              "    \n",
              "            var tile_layer_85b7a48c0f1e0c9e91980026db2283d1 = L.tileLayer(\n",
              "                &quot;https://{s}.tile.openstreetmap.org/{z}/{x}/{y}.png&quot;,\n",
              "                {&quot;attribution&quot;: &quot;Data by \\u0026copy; \\u003ca href=\\&quot;http://openstreetmap.org\\&quot;\\u003eOpenStreetMap\\u003c/a\\u003e, under \\u003ca href=\\&quot;http://www.openstreetmap.org/copyright\\&quot;\\u003eODbL\\u003c/a\\u003e.&quot;, &quot;detectRetina&quot;: false, &quot;maxNativeZoom&quot;: 18, &quot;maxZoom&quot;: 18, &quot;minZoom&quot;: 0, &quot;noWrap&quot;: false, &quot;opacity&quot;: 1, &quot;subdomains&quot;: &quot;abc&quot;, &quot;tms&quot;: false}\n",
              "            ).addTo(map_8ba8d9601c37c520028de7acc917ea71);\n",
              "        \n",
              "    \n",
              "            var tile_layer_8559ad19ec023be0a7e874c5a9bf3503 = L.tileLayer(\n",
              "                &quot;https://earthengine.googleapis.com/v1alpha/projects/earthengine-legacy/maps/c3ccc28f33ccd68908adaab6847037fd-cdf310edba21e9f9feb8b904f742c78a/tiles/{z}/{x}/{y}&quot;,\n",
              "                {&quot;attribution&quot;: &quot;Map Data \\u0026copy; \\u003ca href=\\&quot;https://earthengine.google.com/\\&quot;\\u003eGoogle Earth Engine\\u003c/a\\u003e&quot;, &quot;detectRetina&quot;: false, &quot;maxNativeZoom&quot;: 18, &quot;maxZoom&quot;: 18, &quot;minZoom&quot;: 0, &quot;noWrap&quot;: false, &quot;opacity&quot;: 1, &quot;subdomains&quot;: &quot;abc&quot;, &quot;tms&quot;: false}\n",
              "            ).addTo(map_8ba8d9601c37c520028de7acc917ea71);\n",
              "        \n",
              "    \n",
              "            var layer_control_14befd85dadf24ac501514b45d17903e = {\n",
              "                base_layers : {\n",
              "                    &quot;openstreetmap&quot; : tile_layer_85b7a48c0f1e0c9e91980026db2283d1,\n",
              "                },\n",
              "                overlays :  {\n",
              "                    &quot;Sentinel&quot; : tile_layer_8559ad19ec023be0a7e874c5a9bf3503,\n",
              "                },\n",
              "            };\n",
              "            L.control.layers(\n",
              "                layer_control_14befd85dadf24ac501514b45d17903e.base_layers,\n",
              "                layer_control_14befd85dadf24ac501514b45d17903e.overlays,\n",
              "                {&quot;autoZIndex&quot;: true, &quot;collapsed&quot;: true, &quot;position&quot;: &quot;topright&quot;}\n",
              "            ).addTo(map_8ba8d9601c37c520028de7acc917ea71);\n",
              "        \n",
              "&lt;/script&gt;\n",
              "&lt;/html&gt;\" style=\"position:absolute;width:100%;height:100%;left:0;top:0;border:none !important;\" allowfullscreen webkitallowfullscreen mozallowfullscreen></iframe></div></div>"
            ]
          },
          "metadata": {}
        }
      ]
    },
    {
      "cell_type": "markdown",
      "source": [
        "Export All Images\n",
        "Exports are done via the ee.batch module. A key difference between javascript and Python version is that the region parameter needs to be supplied with actual geometry coordinates."
      ],
      "metadata": {
        "id": "XF3g-08vt30e"
      }
    },
    {
      "cell_type": "code",
      "source": [
        "image_ids = withNdvi.aggregate_array('system:index').getInfo()\n",
        "print('Total images: ', len(image_ids))"
      ],
      "metadata": {
        "id": "7oztDQSgg4W6",
        "colab": {
          "base_uri": "https://localhost:8080/"
        },
        "outputId": "fd2cfa55-5744-487a-afb3-64916204eeb5"
      },
      "execution_count": null,
      "outputs": [
        {
          "output_type": "stream",
          "name": "stdout",
          "text": [
            "Total images:  11\n"
          ]
        }
      ]
    },
    {
      "cell_type": "code",
      "source": [
        "# Export with 100m resolution for this demo\n",
        "for i, image_id in enumerate(image_ids):\n",
        "  image = ee.Image(withNdvi.filter(ee.Filter.eq('system:index', image_id)).first())\n",
        "  task = ee.batch.Export.image.toDrive(**{\n",
        "    'image': image.select('ndvi'),\n",
        "    'description': 'Image Export {}'.format(i+1),\n",
        "    'fileNamePrefix': image.id().getInfo(),\n",
        "    'folder':'Example_folder',\n",
        "    'scale': 100,\n",
        "    'region': image.geometry().bounds().getInfo()['coordinates'],\n",
        "    'maxPixels': 1e10\n",
        "  })\n",
        "  task.start()\n",
        "  print('Started Task: ', i+1)"
      ],
      "metadata": {
        "colab": {
          "base_uri": "https://localhost:8080/"
        },
        "id": "XtVBOk6yt43a",
        "outputId": "3d8678ae-4bc0-44cf-88c4-94c3d385ab5e"
      },
      "execution_count": null,
      "outputs": [
        {
          "output_type": "stream",
          "name": "stdout",
          "text": [
            "Started Task:  1\n",
            "Started Task:  2\n",
            "Started Task:  3\n",
            "Started Task:  4\n",
            "Started Task:  5\n",
            "Started Task:  6\n",
            "Started Task:  7\n",
            "Started Task:  8\n",
            "Started Task:  9\n",
            "Started Task:  10\n",
            "Started Task:  11\n"
          ]
        }
      ]
    }
  ]
}